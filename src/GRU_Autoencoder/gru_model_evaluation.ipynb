{
 "cells": [
  {
   "cell_type": "markdown",
   "id": "de13a447",
   "metadata": {},
   "source": [
    "# Visualizing and Evaluating GRU Autoencoder"
   ]
  },
  {
   "cell_type": "code",
   "execution_count": null,
   "id": "6b5aa889",
   "metadata": {},
   "outputs": [],
   "source": [
    "import torch\n",
    "import pandas as pd\n",
    "import numpy as np\n",
    "import matplotlib.pyplot as plt\n",
    "from LSTM_Autoencoder import LSTMAutoencoder\n",
    "from pathlib import Path\n",
    "import os"
   ]
  },
  {
   "cell_type": "markdown",
   "id": "29038076",
   "metadata": {},
   "source": [
    "### Raw Model:"
   ]
  },
  {
   "cell_type": "code",
   "execution_count": null,
   "id": "a1b71554",
   "metadata": {},
   "outputs": [],
   "source": []
  }
 ],
 "metadata": {
  "kernelspec": {
   "display_name": "myenv",
   "language": "python",
   "name": "python3"
  },
  "language_info": {
   "name": "python",
   "version": "3.12.3"
  }
 },
 "nbformat": 4,
 "nbformat_minor": 5
}
