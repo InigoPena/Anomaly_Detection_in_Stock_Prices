{
 "cells": [
  {
   "metadata": {},
   "cell_type": "code",
   "outputs": [],
   "execution_count": null,
   "source": [
    "import yfinance as yf\n",
    "import pandas as pd\n",
    "import numpy as np\n",
    "import matplotlib.pyplot as plt\n",
    "import seaborn as sns"
   ],
   "id": "debb945cf9d369c9"
  },
  {
   "metadata": {},
   "cell_type": "code",
   "outputs": [],
   "execution_count": null,
   "source": [
    "msft = yf.Ticker(\"MSFT\")\n",
    "apple = yf.Ticker(\"AAPL\")\n",
    "nvidia = yf.Ticker(\"NVDA\")\n",
    "google = yf.Ticker(\"GOOGL\")\n",
    "tesla = yf.Ticker(\"TSLA\")"
   ],
   "id": "e8682f44703f0223"
  },
  {
   "metadata": {},
   "cell_type": "code",
   "outputs": [],
   "execution_count": null,
   "source": [
    "msft_data = msft.history(period=\"20y\")\n",
    "apple_data = apple.history(period=\"20y\")\n",
    "nvidia_data = nvidia.history(period=\"20y\")\n",
    "google_data = google.history(period=\"20y\")\n",
    "tesla_data = tesla.history(period=\"20y\")"
   ],
   "id": "160d857e443d85ed"
  },
  {
   "metadata": {},
   "cell_type": "markdown",
   "source": [
    "## Finding Relevant Columns\n",
    "- For seletcing which columns to use in the algorithm, we will check which columns affect more the **Close** price column."
   ],
   "id": "49a0dfa34c9112bc"
  },
  {
   "metadata": {},
   "cell_type": "code",
   "outputs": [],
   "execution_count": null,
   "source": [
    "fig, axes = plt.subplots(1, 2, figsize=(12, 5))\n",
    "fig.suptitle(\"Correlation Matrices: MSFT and AAPL\", fontsize=14)\n",
    "\n",
    "# MSFT\n",
    "msft_corr = msft_data.select_dtypes(include=[float, int]).corr()\n",
    "sns.heatmap(msft_corr, annot=True, fmt=\".2f\", cmap=\"coolwarm\", cbar=False, ax=axes[0])\n",
    "axes[0].set_title(\"MSFT\")\n",
    "\n",
    "# AAPL\n",
    "aapl_corr = apple_data.select_dtypes(include=[float, int]).corr()\n",
    "sns.heatmap(aapl_corr, annot=True, fmt=\".2f\", cmap=\"coolwarm\", cbar=False, ax=axes[1])\n",
    "axes[1].set_title(\"AAPL\")\n",
    "\n",
    "plt.tight_layout()\n",
    "plt.subplots_adjust(top=0.85)\n",
    "plt.show()"
   ],
   "id": "ad7ec63dbda05550"
  },
  {
   "metadata": {},
   "cell_type": "code",
   "outputs": [],
   "execution_count": null,
   "source": [
    "fig, axes = plt.subplots(1, 3, figsize=(18, 5))\n",
    "fig.suptitle(\"Correlation Matrices: NVDA, GOOGL and TSLA\", fontsize=14)\n",
    "\n",
    "# NVDA\n",
    "nvda_corr = nvidia_data.select_dtypes(include=[float, int]).corr()\n",
    "sns.heatmap(nvda_corr, annot=True, fmt=\".2f\", cmap=\"coolwarm\", cbar=False, ax=axes[0])\n",
    "axes[0].set_title(\"NVDA\")\n",
    "\n",
    "# GOOGL\n",
    "googl_corr = google_data.select_dtypes(include=[float, int]).corr()\n",
    "sns.heatmap(googl_corr, annot=True, fmt=\".2f\", cmap=\"coolwarm\", cbar=False, ax=axes[1])\n",
    "axes[1].set_title(\"GOOGL\")\n",
    "\n",
    "# TSLA\n",
    "tsla_corr = tesla_data.select_dtypes(include=[float, int]).corr()\n",
    "sns.heatmap(tsla_corr, annot=True, fmt=\".2f\", cmap=\"coolwarm\", cbar=False, ax=axes[2])\n",
    "axes[2].set_title(\"TSLA\")\n",
    "\n",
    "plt.tight_layout()\n",
    "plt.subplots_adjust(top=0.85)\n",
    "plt.show()"
   ],
   "id": "950a780e9102bdaf"
  },
  {
   "metadata": {},
   "cell_type": "markdown",
   "source": [
    "Relevant columns affecting the main **Close** column:\n",
    "-   Open\n",
    "-   High\n",
    "-   Low\n",
    "-   Volume"
   ],
   "id": "8de95aded09e43ba"
  }
 ],
 "metadata": {
  "kernelspec": {
   "display_name": "myenv",
   "language": "python",
   "name": "python3"
  },
  "language_info": {
   "codemirror_mode": {
    "name": "ipython",
    "version": 3
   },
   "file_extension": ".py",
   "mimetype": "text/x-python",
   "name": "python",
   "nbconvert_exporter": "python",
   "pygments_lexer": "ipython3",
   "version": "3.12.3"
  }
 },
 "nbformat": 4,
 "nbformat_minor": 5
}
